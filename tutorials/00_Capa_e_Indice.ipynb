{
 "cells": [
  {
   "cell_type": "markdown",
   "metadata": {},
   "source": [
    "# EA979 - Introd. Computação Gráfica e Processamento de Imagem\n",
    "## Primeiro semestre de 2020\n",
    "*Leticia Rittner*\n"
   ]
  },
  {
   "cell_type": "markdown",
   "metadata": {},
   "source": [
    "## Conteúdo\n",
    "\n",
    "### Introdução ao Processamento de Imagens\n",
    "\n",
    "1. [Overview](01_Processamento_Imagens.ipynb)\n",
    "\n",
    "### Introdução às Imagens digitais\n",
    "    \n",
    "1. [Introdução ao NumPy](02_Aprendendo_Numpy.ipynb) \n",
    "2. [Manipulando imagens: abrir, salvar, visualizar, criar](03_Lendo_e_Visualizando_Imagens.ipynb)\n",
    "3. [Geração de imagens sintéticas](04_Gerando_imagens_sinteticas.ipynb)\n",
    "\n",
    "### Transformações radiométricas (ponto-a-ponto)\n",
    "\n",
    "1. [Histograma da Imagem](05_Histograma_da_imagem.ipynb)\n",
    "2. [Transformação de Intensidade](../master/tutorial_ti_2.ipynb)\n",
    "3. [Tutorial sobre equalização de histograma](../master/tutorial_hist_eq_2.ipynb)\n",
    "4. [Tutorial equalização de histograma por montagem de mosaico](../master/tutorial_pehist_1.ipynb)\n",
    "5. [Transformações em cores](06_Histograma_de_Imagens_Coloridas.ipynb)\n",
    "\n",
    "### Transformações espaciais (vizinhança)\n",
    "\n",
    "1. [Filtragem no domínio espacial](07_Filtragem_no_dominio_espacial.ipynb)\n",
    "2. [Convolução como média ponderada de translações da imagem](../master/tutorial_conv_3.ipynb)\n",
    "\n",
    "### Transformações no domínio da frequência - Transformada de Fourier\n",
    "\n",
    "1. [Geração de ondas senoidais 1D e 2D](08_Ondas_senoidais.ipynb)\n",
    "2. [Translação periódica](09_Translacao_periodica.ipynb)\n",
    "3. [Propriedades da DFT](10_A_transformada_discreta_de_Fourier_DFT.ipynb)\n",
    "4. [Teorema da Convolução](11_Teorema_da_Convolucao.ipynb)\n",
    "5. [Filtros em frequência](12_Filtros_em_frequencia.ipynb)\n",
    "\n",
    "### Segmentação\n",
    "\n",
    "1. [Segmentação por Otsu](14_Segmentacao_por_Otsu.ipynb)\n",
    "2. [Exemplo de segmentação por Watershed](15_Exemplo_de_Segmentacao_por_Watershed.ipynb)\n",
    "3. [Comparando Otsu e Watershed](16_Comparando_Otsu_e_Watershed.ipynb)\n",
    "\n"
   ]
  },
  {
   "cell_type": "markdown",
   "metadata": {},
   "source": [
    "## Enunciados dos exercícios\n",
    "\n",
    "- [Exercício 1 - Aprendendo Numpy](EA979A_Ex01_Aprendendo Numpy.ipynb)\n",
    "- [Exercício 2 - Histograma e Transformações de Intensidade](EA979A_Ex02_TransformacaoRadiometrica.ipynb)\n",
    "- [Exercício 3 - Filtragem espacial](EA979A_Ex03_FiltragemImagens.ipynb)\n",
    "- [Exercício 4 - Filtragem em Frequência](EA979A_Ex04_FiltragemFrequencia.ipynb)\n",
    "- [Exercício 5 - Segmentação](EA979A_Ex05_Segmentacao.ipynb)"
   ]
  },
  {
   "cell_type": "markdown",
   "metadata": {},
   "source": [
    "## Gabaritos dos exercícios\n",
    "\n",
    "- [Exercício 1 - Aprendendo Numpy](EA979A_Ex01_Gabarito.ipynb)\n",
    "- [Exercício 2 - Histograma e Transformações de Intensidade](EA979A_Ex02_TransformacaoRadiometrica-Gabarito.ipynb)\n",
    "- [Exercício 3 - Filtragem espacial](EA979A_Ex03_FiltragemImagens_Gabarito.ipynb)\n",
    "- [Exercício 4 - Filtragem em Frequência](EA979A_Ex04_FiltragemFrequencia_Gabarito.ipynb)\n"
   ]
  },
  {
   "cell_type": "markdown",
   "metadata": {},
   "source": [
    "## Links úteis\n",
    "\n",
    "- [Jupyter Notebook - documentação](http://jupyter-notebook.readthedocs.io/en/latest/notebook.html)\n",
    "- [Jupyter notebook - tips and tricks](https://www.dataquest.io/blog/jupyter-notebook-tips-tricks-shortcuts/)\n",
    "- [Tutorial breve - Python](../deliver/tutorial-python.ipynb)\n",
    "- [Tutorial breve - NumPy](../deliver/tutorial-numpy.ipynb)"
   ]
  }
 ],
 "metadata": {
  "anaconda-cloud": {},
  "kernelspec": {
   "display_name": "Python 3",
   "language": "python",
   "name": "python3"
  },
  "language_info": {
   "codemirror_mode": {
    "name": "ipython",
    "version": 3
   },
   "file_extension": ".py",
   "mimetype": "text/x-python",
   "name": "python",
   "nbconvert_exporter": "python",
   "pygments_lexer": "ipython3",
   "version": "3.6.1"
  }
 },
 "nbformat": 4,
 "nbformat_minor": 1
}
